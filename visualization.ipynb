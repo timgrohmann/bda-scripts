{
 "cells": [
  {
   "cell_type": "code",
   "execution_count": null,
   "metadata": {},
   "outputs": [],
   "source": [
    "from pymongo import MongoClient\n",
    "import matplotlib.pyplot as plt\n",
    "import numpy as np\n",
    "\n",
    "client = MongoClient()\n",
    "collection_pc = client['bigdata']['peoplecount']\n",
    "collection_co = client['bigdata']['corona-deutschland-neue-faelle']"
   ]
  },
  {
   "cell_type": "code",
   "execution_count": null,
   "metadata": {},
   "outputs": [],
   "source": [
    "query_pc = collection_pc.aggregate([\n",
    "    {\n",
    "        '$group': {\n",
    "            '_id': {\n",
    "                '$dateToString': {\n",
    "                    'date': '$day',\n",
    "                    'format': '%Y-%U'\n",
    "                }\n",
    "            },\n",
    "            'count': {\n",
    "                '$sum': '$count'\n",
    "            }\n",
    "        }\n",
    "    },\n",
    "    {\n",
    "        '$sort': {\n",
    "            '_id': 1\n",
    "        }\n",
    "    }\n",
    "])\n",
    "aggregate_pc = list(query_pc)"
   ]
  },
  {
   "cell_type": "code",
   "execution_count": null,
   "metadata": {},
   "outputs": [],
   "source": [
    "query_co = collection_co.aggregate([\n",
    "    {\n",
    "        '$group': {\n",
    "            '_id': {\n",
    "                '$dateToString': {\n",
    "                    'date': '$Date', \n",
    "                    'format': '%Y-%U'\n",
    "                }\n",
    "            }, \n",
    "            'neueFaelle': {\n",
    "                '$sum': '$neueFaelle'\n",
    "            }\n",
    "        }\n",
    "    }, {\n",
    "        '$sort': {\n",
    "            '_id': 1\n",
    "        }\n",
    "    }\n",
    "])\n",
    "aggregate_co = list(query_co)"
   ]
  },
  {
   "cell_type": "code",
   "execution_count": null,
   "metadata": {},
   "outputs": [],
   "source": [
    "lasts = [x for x in aggregate_pc if x['_id'].endswith('52')]\n",
    "firsts = [x for x in aggregate_pc if x['_id'].endswith('00')]"
   ]
  },
  {
   "cell_type": "code",
   "execution_count": null,
   "metadata": {},
   "outputs": [],
   "source": [
    "for i in range(2):\n",
    "    lasts[i]['count'] += firsts[i]['count']\n",
    "aggregate_pc = [x for x in aggregate_pc if not x['_id'].endswith('00')]"
   ]
  },
  {
   "cell_type": "code",
   "execution_count": null,
   "metadata": {
    "scrolled": true
   },
   "outputs": [],
   "source": [
    "first_part_pc = [x for x in aggregate_pc if '2018-44' <= x['_id'] <= '2019-43']\n",
    "second_part_pc = [x for x in aggregate_pc if '2019-44' <= x['_id'] <= '2020-43']"
   ]
  },
  {
   "cell_type": "code",
   "execution_count": null,
   "metadata": {},
   "outputs": [],
   "source": [
    "x_pc = [x['_id'][5:] for x in first_part_pc]\n",
    "y_pc_1s = [y['count'] for y in first_part_pc]\n",
    "y_pc_2s = [y['count'] for y in second_part_pc]"
   ]
  },
  {
   "cell_type": "code",
   "execution_count": null,
   "metadata": {},
   "outputs": [],
   "source": [
    "x_co = [x['_id'][5:] for x in aggregate_co]\n",
    "y_co = [next((y['neueFaelle'] for y in aggregate_co if y['_id'][5:] == x and x <= '43'), 0) for x in x_pc]"
   ]
  },
  {
   "cell_type": "code",
   "execution_count": null,
   "metadata": {},
   "outputs": [],
   "source": [
    "# Funktion um zwei Skalen anzugleichen (Antwort vom Stackoverflow: https://stackoverflow.com/questions/10481990/matplotlib-axis-with-two-scales-shared-origin)\n",
    "def align_yaxis(ax1, v1, ax2, v2):\n",
    "    \"\"\"adjust ax2 ylimit so that v2 in ax2 is aligned to v1 in ax1\"\"\"\n",
    "    _, y1 = ax1.transData.transform((0, v1))\n",
    "    _, y2 = ax2.transData.transform((0, v2))\n",
    "    inv = ax2.transData.inverted()\n",
    "    _, dy = inv.transform((0, 0)) - inv.transform((0, y1-y2))\n",
    "    miny, maxy = ax2.get_ylim()\n",
    "    ax2.set_ylim(miny+dy, maxy+dy)"
   ]
  },
  {
   "cell_type": "code",
   "execution_count": null,
   "metadata": {},
   "outputs": [],
   "source": [
    "f, axs = plt.subplots(nrows = 2, figsize = (14,8))\n",
    "\n",
    "# Zeichnen des oberen Diagramms\n",
    "ax1 = axs[0]\n",
    "ax1.ticklabel_format(style = 'plain')\n",
    "ax1.plot(x_pc, y_pc_1s, label = first_part_pc[0]['_id'] + ' - ' + first_part_pc[-1]['_id'])\n",
    "ax1.plot(x_pc, y_pc_2s, label = second_part_pc[0]['_id'] + ' - ' + second_part_pc[-1]['_id'])\n",
    "\n",
    "# Zeichnen des unteren Diagramms\n",
    "ax2 = axs[1]\n",
    "# Differenz der Passantenfrequenzen\n",
    "ax2.plot(x_pc, np.array(y1s) - np.array(y2s), label = 'Differenz', color = 'green')\n",
    "# Kopieren der X-Achse, um zweite Y-Achse zu erhalten (unterschiedliche Skalierung)\n",
    "ax2_co = ax2.twinx()\n",
    "ax2_co.plot(y_co, label = 'Corona-Fallzahlen', color = 'red')\n",
    "\n",
    "# Zeichnen der drei Legenden\n",
    "ax1.legend()\n",
    "ax2.legend(loc = 'upper left')\n",
    "ax2_co.legend(loc = 'upper right')\n",
    "\n",
    "# Entfernen der oberen Linien der beiden Diagramme\n",
    "ax1.spines['top'].set_color('none')\n",
    "ax2.spines['top'].set_color('none')\n",
    "ax2_co.spines['top'].set_color('none')\n",
    "\n",
    "# Zeichnen einer Linie durch y = 0 im zweiten Diagramm\n",
    "ax2.axhline(0, color='black')\n",
    "\n",
    "# Beschriften der Achsen Diagramm 1\n",
    "ax1.set_ylabel('Passantenfrequenz')\n",
    "ax1.set_xlabel('Kalenderwoche')\n",
    "\n",
    "# Beschriften der Achsen Diagramm 2\n",
    "ax2.set_ylabel('Differenz der Passantenfrequenz')\n",
    "ax2_co.set_ylabel('Corona-Fallzahlen')\n",
    "ax2.set_xlabel('Kalenderwoche')\n",
    "\n",
    "# Ansonsten ist die rechte Achse abgeschnitten\n",
    "f.tight_layout()\n",
    "# Angleichen der 0 im zweiten Diagramm\n",
    "align_yaxis(ax2, 0, ax2_co, 0)\n",
    "\n",
    "# Zeigen der Diagramme\n",
    "plt.show()"
   ]
  },
  {
   "cell_type": "code",
   "execution_count": null,
   "metadata": {},
   "outputs": [],
   "source": []
  },
  {
   "cell_type": "code",
   "execution_count": null,
   "metadata": {},
   "outputs": [],
   "source": []
  },
  {
   "cell_type": "code",
   "execution_count": null,
   "metadata": {},
   "outputs": [],
   "source": []
  }
 ],
 "metadata": {
  "kernelspec": {
   "display_name": "Python 3",
   "language": "python",
   "name": "python3"
  },
  "language_info": {
   "codemirror_mode": {
    "name": "ipython",
    "version": 3
   },
   "file_extension": ".py",
   "mimetype": "text/x-python",
   "name": "python",
   "nbconvert_exporter": "python",
   "pygments_lexer": "ipython3",
   "version": "3.9.0"
  }
 },
 "nbformat": 4,
 "nbformat_minor": 4
}
